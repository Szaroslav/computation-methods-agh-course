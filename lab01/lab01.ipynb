{
 "cells": [
  {
   "cell_type": "markdown",
   "id": "4fa49495-ea6b-4c3b-91ca-28d87e5929c1",
   "metadata": {},
   "source": [
    "# Arytmetyka komputerowa\n",
    "## Laboratorium 1 - Metody Obliczeniowe w Nauce i Technice"
   ]
  },
  {
   "cell_type": "markdown",
   "id": "c7c91057-0070-4e31-b827-81c5761b36b2",
   "metadata": {},
   "source": [
    "## Zadanie 1. Sumowanie liczb pojedynczej precyzji"
   ]
  },
  {
   "cell_type": "markdown",
   "id": "96c1d666-660b-46e8-9460-a92d7b56cf5f",
   "metadata": {},
   "source": [
    "1."
   ]
  },
  {
   "cell_type": "code",
   "execution_count": 2,
   "id": "0b1cde1a-d252-478b-9413-09a6558f6359",
   "metadata": {},
   "outputs": [
    {
     "data": {
      "text/plain": [
       "4466364.5"
      ]
     },
     "execution_count": 2,
     "metadata": {},
     "output_type": "execute_result"
    }
   ],
   "source": [
    "import numpy as np\n",
    "\n",
    "N = 10**7\n",
    "V = 0.4202137\n",
    "EXACT_VALUE = N * V\n",
    "\n",
    "def iterate_sum(v):\n",
    "    array = np.full(N, v, dtype=np.single)\n",
    "    result = np.single(0.0)\n",
    "    for x in array: result += x\n",
    "    \n",
    "    return result\n",
    "\n",
    "computed_value = iterate_sum(V)\n",
    "computed_value"
   ]
  },
  {
   "cell_type": "markdown",
   "id": "e6c0f72a-ea24-4e77-86ce-614e4636d2e2",
   "metadata": {},
   "source": [
    "2."
   ]
  },
  {
   "cell_type": "code",
   "execution_count": null,
   "id": "0b125b80-c301-4db6-82ea-aa32d7f8ac8e",
   "metadata": {},
   "outputs": [],
   "source": [
    "# absolute error\n",
    "abs_error = abs(EXACT_VALUE - computed_value)\n",
    "print(f\"Absolute approximation error: {abs_error}\")\n",
    "\n",
    "# relative error\n",
    "rel_error = abs_error / EXACT_VALUE * 100\n",
    "print(f\"Relative approximation error: {rel_error}\")"
   ]
  },
  {
   "cell_type": "markdown",
   "id": "2b38d181-5696-4cc0-a25d-a6cf1db974a7",
   "metadata": {},
   "source": [
    "Błąd względny jest duży z powodu ograniczonej liczby bitów w mantysie, w pewnym momencie brakuje pamięci na przechowywanie dokładnej wartości częściowej sumy, dlatego suma w ostateczności traci dokładność."
   ]
  },
  {
   "cell_type": "markdown",
   "id": "a80344e9-1f33-4c17-a40e-3822cac94888",
   "metadata": {},
   "source": [
    "3."
   ]
  },
  {
   "cell_type": "code",
   "execution_count": 9,
   "id": "f725c60f-06c0-42d7-af4d-315a6065425e",
   "metadata": {},
   "outputs": [
    {
     "data": {
      "image/png": "[encoded data removed]",
      "text/plain": [
       "<Figure size 1000x500 with 1 Axes>"
      ]
     },
     "metadata": {},
     "output_type": "display_data"
    }
   ],
   "source": [
    "import matplotlib.pyplot as plt\n",
    "\n",
    "STEP = 25000\n",
    "\n",
    "steps = np.array([x for x in range(STEP, N + 1, STEP)])\n",
    "errors = np.empty(N // STEP, dtype=np.double)\n",
    "\n",
    "result = np.single(0.0)\n",
    "for i in range(1, N + 1):\n",
    "    if i % STEP == 0:\n",
    "        errors[i // STEP - 1] = np.abs(result - i * V)\n",
    "    result += np.single(V)\n",
    "    \n",
    "fig, ax = plt.subplots(figsize=(10, 5))\n",
    "ax.scatter(steps, errors)\n",
    "plt.show()"
   ]
  },
  {
   "cell_type": "markdown",
   "id": "17ebb344-c3bd-48f0-89b2-25167b9824d4",
   "metadata": {},
   "source": [
    "Na wykresie można zaobserowawać systematyczne redukcje błędów bezwzględnych, wraz z każdą kolejną operacją dodawania maksimum lokalne jest coraz większe."
   ]
  },
  {
   "cell_type": "markdown",
   "id": "48788f4f-b287-47a4-b194-16ae1e4828b7",
   "metadata": {},
   "source": [
    "4."
   ]
  },
  {
   "cell_type": "code",
   "execution_count": 4,
   "id": "1d956559-22fc-4f4c-b929-c705f3ca6e46",
   "metadata": {},
   "outputs": [
    {
     "data": {
      "text/plain": [
       "4202137.0"
      ]
     },
     "execution_count": 4,
     "metadata": {},
     "output_type": "execute_result"
    }
   ],
   "source": [
    "def recursive_sum(array):\n",
    "    def r(array, i, j):\n",
    "        if j - i == 0:\n",
    "            return array[i]\n",
    "        if j - i == 1:\n",
    "            return array[i] + array[j]\n",
    "        \n",
    "        mid = i + ((j - i + 1) // 2 - 1)\n",
    "        return r(array, i, mid) + r(array, mid + 1, j)\n",
    "    \n",
    "    return r(array, 0, len(array) - 1)\n",
    "\n",
    "computed_value_rec = recursive_sum(np.full(N, V, dtype=np.single))\n",
    "computed_value_rec"
   ]
  },
  {
   "cell_type": "markdown",
   "id": "08edf821-1e3e-431c-a36e-b6fd8206e5bf",
   "metadata": {},
   "source": [
    "5."
   ]
  },
  {
   "cell_type": "code",
   "execution_count": 8,
   "id": "033f7f63-b5fa-4f05-9a72-c345d6066fe5",
   "metadata": {},
   "outputs": [
    {
     "name": "stdout",
     "output_type": "stream",
     "text": [
      "Absolute approximation error: 0.0\n",
      "Relative approximation error: 0.0\n"
     ]
    }
   ],
   "source": [
    "# absolute error\n",
    "abs_error_rec = abs(EXACT_VALUE - computed_value_rec)\n",
    "print(f\"Absolute approximation error: {abs_error_rec}\")\n",
    "\n",
    "# relative error\n",
    "rel_error_rec = abs_error_rec / EXACT_VALUE * 100\n",
    "print(f\"Relative approximation error: {rel_error_rec}\")"
   ]
  },
  {
   "cell_type": "markdown",
   "id": "936a1e9a-80c4-4dbe-88b2-c26418fa3518",
   "metadata": {},
   "source": [
    "Błędy przybliżeń zmalały do 0, ponieważ algorytm dzieli składniki na mniejsze liczby, dzięki temu zmniejszamy ryzyko wystąpienia `overflow` lub `underflow`. W przypadku wcześniejszego algorytmu sumy dochodziło do sytuacji kiedy dodawaliśmy dużą liczbę z małą."
   ]
  },
  {
   "cell_type": "markdown",
   "id": "c650c566-8675-4be0-9961-76722cb49f22",
   "metadata": {},
   "source": [
    "6."
   ]
  },
  {
   "cell_type": "code",
   "execution_count": 14,
   "id": "7f0e7d2b-2b6a-4bf9-b92e-7f2ccdd73342",
   "metadata": {},
   "outputs": [
    {
     "name": "stdout",
     "output_type": "stream",
     "text": [
      "Iterate sum execution time: 1.281013011932373s\n",
      "Recursive sum execution time: 4.7049829959869385s\n"
     ]
    }
   ],
   "source": [
    "from datetime import datetime\n",
    "\n",
    "# Iterate sum\n",
    "iterate_start = datetime.timestamp(datetime.now())\n",
    "iterate_sum(V)\n",
    "iterate_end = datetime.timestamp(datetime.now())\n",
    "\n",
    "# Recursive sum\n",
    "recursive_start = datetime.timestamp(datetime.now())\n",
    "recursive_sum(np.full(N, V, dtype=np.single))\n",
    "recursive_end = datetime.timestamp(datetime.now())\n",
    "\n",
    "print(f\"Iterate sum execution time: {iterate_end - iterate_start} s\")\n",
    "print(f\"Recursive sum execution time: {recursive_end - recursive_start} s\")"
   ]
  },
  {
   "cell_type": "markdown",
   "id": "dda44eee-3de4-4470-bb8e-e5e5ef5af6ce",
   "metadata": {},
   "source": [
    "7."
   ]
  },
  {
   "cell_type": "code",
   "execution_count": 12,
   "id": "d9af6c6b-d499-46d0-9035-4418b0f4a405",
   "metadata": {},
   "outputs": [
    {
     "data": {
      "text/plain": [
       "100000000.0"
      ]
     },
     "execution_count": 12,
     "metadata": {},
     "output_type": "execute_result"
    }
   ],
   "source": [
    "array = np.array([99999999, 0.00000000000000000001], dtype=np.single)\n",
    "recursive_sum(array)"
   ]
  },
  {
   "cell_type": "markdown",
   "id": "ffef3f77-500c-427f-b2f1-b85930ca9fd1",
   "metadata": {},
   "source": [
    "# Zadanie 2. Algorytm Kahana"
   ]
  },
  {
   "cell_type": "markdown",
   "id": "234fb8a2-7fb1-4271-9942-73e82914e3ba",
   "metadata": {},
   "source": [
    "1."
   ]
  },
  {
   "cell_type": "code",
   "execution_count": 16,
   "id": "885481c4-ef23-464a-945b-fa9890702b6d",
   "metadata": {},
   "outputs": [
    {
     "data": {
      "text/plain": [
       "4202137.0"
      ]
     },
     "execution_count": 16,
     "metadata": {},
     "output_type": "execute_result"
    }
   ],
   "source": [
    "def kahan_sum(array):\n",
    "    _sum, err = np.single(0.0), np.single(0.0)\n",
    "    for x in array:\n",
    "        y = np.single(x - err)\n",
    "        temp = np.single(_sum + y)\n",
    "        err = temp - _sum - y\n",
    "        _sum = temp\n",
    "        \n",
    "    return _sum\n",
    "\n",
    "computed_value = kahan_sum(np.full(N, V, dtype=np.single))\n",
    "computed_value"
   ]
  },
  {
   "cell_type": "code",
   "execution_count": null,
   "id": "0e1e89f6-50d0-4e1d-8f19-0bede9aa003f",
   "metadata": {},
   "outputs": [],
   "source": [
    "# absolute error\n",
    "abs_error = abs(EXACT_VALUE - computed_value)\n",
    "print(f\"Absolute approximation error: {abs_error}\")\n",
    "\n",
    "# relative error\n",
    "rel_error = abs_error / EXACT_VALUE * 100\n",
    "print(f\"Relative approximation error: {rel_error}\")"
   ]
  },
  {
   "cell_type": "markdown",
   "id": "412d8076-3c61-407a-9440-31f55e1eca60",
   "metadata": {},
   "source": []
  },
  {
   "cell_type": "markdown",
   "id": "23514fc6-79d8-4b02-8c12-6ce4fb5f9952",
   "metadata": {},
   "source": [
    "2."
   ]
  },
  {
   "cell_type": "code",
   "execution_count": null,
   "id": "c4f51413-eb69-473f-ac69-51184c1cfdb6",
   "metadata": {},
   "outputs": [],
   "source": []
  },
  {
   "cell_type": "markdown",
   "id": "9b199e3a-3d6f-45eb-ba06-a458fd1f35a6",
   "metadata": {},
   "source": [
    "3."
   ]
  },
  {
   "cell_type": "code",
   "execution_count": 17,
   "id": "197a8251-5fc7-4f36-bdf5-5075a37e066e",
   "metadata": {},
   "outputs": [
    {
     "name": "stdout",
     "output_type": "stream",
     "text": [
      "Iterate sum execution time: 12.637998104095459 s\n",
      "Recursive sum execution time: 4.786013841629028 s\n"
     ]
    }
   ],
   "source": [
    "# Kahan's sum\n",
    "kahan_start = datetime.timestamp(datetime.now())\n",
    "kahan_sum(np.full(N, V, dtype=np.single))\n",
    "kahan_end = datetime.timestamp(datetime.now())\n",
    "\n",
    "# Recursive sum\n",
    "recursive_start = datetime.timestamp(datetime.now())\n",
    "recursive_sum(np.full(N, V, dtype=np.single))\n",
    "recursive_end = datetime.timestamp(datetime.now())\n",
    "\n",
    "print(f\"Kahan's sum execution time: {kahan_end - kahan_start} s\")\n",
    "print(f\"Recursive sum execution time: {recursive_end - recursive_start} s\")"
   ]
  },
  {
   "cell_type": "markdown",
   "id": "5ee097b2-e46e-4822-92a4-8a07007096d0",
   "metadata": {},
   "source": [
    "# Zadanie 3. Sumy częściowe"
   ]
  },
  {
   "cell_type": "code",
   "execution_count": null,
   "id": "63423496-96f0-4b61-aa78-2cebcb067f95",
   "metadata": {},
   "outputs": [],
   "source": [
    "# Zeta Riemann's function (forward iteration)\n",
    "def zeta(s, n):\n",
    "    result = np.single(0.0)\n",
    "    for k in range(1, n + 1):\n",
    "        result += np.single(1 / k**s)\n",
    "        \n",
    "    return result\n",
    "\n",
    "# Zeta Riemann's function (backward iteration)\n",
    "def zeta_reversed(s, n):\n",
    "    result = np.single(0.0)\n",
    "    for k in range(n, 0, -1):\n",
    "        result += np.single(1 / k**s)\n",
    "        \n",
    "    return result\n",
    "\n",
    "# Eta Dirichlet's function (forward iteration)\n",
    "def eta(s, n):\n",
    "    result = np.single(0.0)\n",
    "    for k in range(1, n + 1):\n",
    "        result += np.single((-1)**(k - 1) * 1 / k**s)\n",
    "        \n",
    "    return result\n",
    "\n",
    "# Eta Dirichlet's function (backward iteration)\n",
    "def eta_reversed(s, n):\n",
    "    result = np.single(0.0)\n",
    "    for k in range(n, 0, -1):\n",
    "        result += np.single((-1)**(k - 1) * 1 / k**s)\n",
    "        \n",
    "    return result"
   ]
  },
  {
   "cell_type": "code",
   "execution_count": null,
   "id": "a23dc18e-d02e-4b5d-b792-fd0bbe10ea4a",
   "metadata": {},
   "outputs": [],
   "source": [
    "import pandas as pd\n",
    "\n",
    "array = np.array([[2, 3.6667, 5, 7.2, 10], [50, 100, 200, 500, 1000]])\n",
    "\n",
    "# s = 10, n = 100\n",
    "print(\"s = 10, n = 100\")\n",
    "print(f\"zeta()\\t\\t{zeta(10, 100)}\")\n",
    "print(f\"zeta_reversed()\\t{zeta_reversed(10, 100)}\")\n",
    "print(f\"eta()\\t\\t{eta(10, 100)}\")\n",
    "print(f\"eta_reversed()\\t{eta_reversed(10, 100)}\\n\")\n",
    "\n",
    "# s = 3.6667, n = 100\n",
    "print(\"s = 3.6667, n = 100\")\n",
    "print(f\"zeta()\\t\\t{zeta(3.6667, 100)}\")\n",
    "print(f\"zeta_reversed()\\t{zeta_reversed(3.6667, 100)}\")\n",
    "print(f\"eta()\\t\\t{eta(3.6667, 100)}\")\n",
    "print(f\"eta_reversed()\\t{eta_reversed(3.6667, 100)}\")"
   ]
  },
  {
   "cell_type": "code",
   "execution_count": null,
   "id": "8c2e7e19-bea7-4ca1-ae54-2d897ff56b47",
   "metadata": {},
   "outputs": [],
   "source": []
  },
  {
   "cell_type": "code",
   "execution_count": null,
   "id": "617db0ca-5526-4fae-8a73-37d21315ff7c",
   "metadata": {},
   "outputs": [],
   "source": []
  },
  {
   "cell_type": "code",
   "execution_count": null,
   "id": "62e41b77-6a8e-4682-91b3-c704b36c028b",
   "metadata": {},
   "outputs": [],
   "source": []
  },
  {
   "cell_type": "code",
   "execution_count": null,
   "id": "3bd7dcfe-8d3e-4482-a285-e835df2d0a50",
   "metadata": {},
   "outputs": [],
   "source": []
  }
 ],
 "metadata": {
  "kernelspec": {
   "display_name": "Python 3 (ipykernel)",
   "language": "python",
   "name": "python3"
  },
  "language_info": {
   "codemirror_mode": {
    "name": "ipython",
    "version": 3
   },
   "file_extension": ".py",
   "mimetype": "text/x-python",
   "name": "python",
   "nbconvert_exporter": "python",
   "pygments_lexer": "ipython3",
   "version": "3.9.13"
  }
 },
 "nbformat": 4,
 "nbformat_minor": 5
}
